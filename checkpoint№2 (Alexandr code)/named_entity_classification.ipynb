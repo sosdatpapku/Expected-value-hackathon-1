{
  "cells": [
    {
      "cell_type": "markdown",
      "metadata": {
        "id": "8Wy0fLEynEdL"
      },
      "source": [
        "Команда столкнулась с проблемой сложности корректной конвертации txt-файлов в json в целью дообучить модели spacy и flair.\n",
        "Представленный ноутбук - это черновой вариант. "
      ]
    },
    {
      "cell_type": "markdown",
      "metadata": {
        "id": "6SXPGeqdoVWm"
      },
      "source": [
        "Модель взята с https://huggingface.co/flair/ner-english-ontonotes-large"
      ]
    },
    {
      "cell_type": "code",
      "execution_count": null,
      "metadata": {
        "id": "fok9VVqEfed_"
      },
      "outputs": [],
      "source": [
        "!pip install flair # устанавливаем фреймворк"
      ]
    },
    {
      "cell_type": "code",
      "execution_count": null,
      "metadata": {
        "id": "Jv36gcgafitM"
      },
      "outputs": [],
      "source": [
        "from flair.data import Sentence\n",
        "from flair.models import SequenceTagger\n",
        "\n",
        "# скачиваем модель\n",
        "tagger = SequenceTagger.load(\"flair/ner-english-ontonotes-large\")"
      ]
    },
    {
      "cell_type": "code",
      "execution_count": 11,
      "metadata": {
        "id": "dsAfHGxujBVh"
      },
      "outputs": [],
      "source": [
        "file_1 = open('/content/output.txt', 'r') # считываем txt-файл, который получился навыходе программа с прошлого чекпоинта\n",
        "content = file_1.read()"
      ]
    },
    {
      "cell_type": "code",
      "execution_count": 14,
      "metadata": {
        "colab": {
          "base_uri": "https://localhost:8080/"
        },
        "id": "gFpRCkPSjgdd",
        "outputId": "d73f4d76-35ee-4d1a-c662-d8fd199b3c89"
      },
      "outputs": [
        {
          "name": "stdout",
          "output_type": "stream",
          "text": [
            "Sentence: \"3000 Petron points to pay RM45 Fuel Miles for TAL INCLUDES 6.00 % Anount 4.62 GST Summary 00 % ( RM ) Hy ( RM ) Cash Change 5.00 0 inc.GST : GST RM : Total RM double , mat te sandwich venil ] 3.00 1.90 PM 29077 4:43:17 Babu Store es 01 / 02 / 2018 bea INVOICE 001210736640 Tel ; PETRON BKT LANJAN SB ALSERKAM ENTERPRISE | 03-6156 8757 Co No : 0010B3069-M KM 458.4 BKT LANJAN UTARA , L / RAYA UTARA SELATAN,SG BULO 47000 SUNGAI BUL\" → [\"3000\"/CARDINAL, \"Petron\"/ORG, \"RM45\"/MONEY, \"Fuel Miles\"/QUANTITY, \"6.00 %\"/PERCENT, \"4.62\"/CARDINAL, \"00 %\"/PERCENT, \"5.00\"/CARDINAL, \"1.90\"/CARDINAL, \"01 / 02 / 2018\"/DATE, \"LANJAN SB ALSERKAM ENTERPRISE\"/ORG, \"458.4\"/CARDINAL, \"UTARA\"/ORG, \"SELATAN,SG\"/GPE, \"SUNGAI BUL\"/GPE]\n",
            "The following NER tags are found:\n",
            "Span[0:1]: \"3000\" → CARDINAL (1.0)\n",
            "Span[1:2]: \"Petron\" → ORG (1.0)\n",
            "Span[5:6]: \"RM45\" → MONEY (0.7466)\n",
            "Span[6:8]: \"Fuel Miles\" → QUANTITY (0.8782)\n",
            "Span[11:13]: \"6.00 %\" → PERCENT (1.0)\n",
            "Span[14:15]: \"4.62\" → CARDINAL (1.0)\n",
            "Span[17:19]: \"00 %\" → PERCENT (0.9825)\n",
            "Span[28:29]: \"5.00\" → CARDINAL (0.9953)\n",
            "Span[45:46]: \"1.90\" → CARDINAL (0.9995)\n",
            "Span[52:57]: \"01 / 02 / 2018\" → DATE (1.0)\n",
            "Span[64:68]: \"LANJAN SB ALSERKAM ENTERPRISE\" → ORG (0.9179)\n",
            "Span[76:77]: \"458.4\" → CARDINAL (0.9914)\n",
            "Span[79:80]: \"UTARA\" → ORG (0.5243)\n",
            "Span[85:86]: \"SELATAN,SG\" → GPE (0.5846)\n",
            "Span[88:90]: \"SUNGAI BUL\" → GPE (0.9994)\n"
          ]
        }
      ],
      "source": [
        "# используем распознанные текстовые сущности чека как входные данные\n",
        "sentence = Sentence(content)\n",
        "\n",
        "# пробуем предсказать теги для наших данных\n",
        "tagger.predict(sentence)\n",
        "\n",
        "# выводим полное содержимое файла\n",
        "print(sentence)\n",
        "\n",
        "# выводим предсказанные теги для отдельных сущностей\n",
        "print('The following NER tags are found:')\n",
        "for entity in sentence.get_spans('ner'):\n",
        "    print(entity)"
      ]
    }
  ],
  "metadata": {
    "colab": {
      "provenance": []
    },
    "kernelspec": {
      "display_name": "Python 3",
      "language": "python",
      "name": "python3"
    },
    "language_info": {
      "name": "python",
      "version": "3.10.0 (tags/v3.10.0:b494f59, Oct  4 2021, 19:00:18) [MSC v.1929 64 bit (AMD64)]"
    },
    "vscode": {
      "interpreter": {
        "hash": "fbe58ca63fe33f9eeae9e71d10368d2b4a57f2b1b395836210cc60d362c66949"
      }
    }
  },
  "nbformat": 4,
  "nbformat_minor": 0
}
